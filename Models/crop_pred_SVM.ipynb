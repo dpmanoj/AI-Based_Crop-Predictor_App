{
 "metadata": {
  "language_info": {
   "codemirror_mode": {
    "name": "ipython",
    "version": 3
   },
   "file_extension": ".py",
   "mimetype": "text/x-python",
   "name": "python",
   "nbconvert_exporter": "python",
   "pygments_lexer": "ipython3",
   "version": "3.6.12-final"
  },
  "orig_nbformat": 2,
  "kernelspec": {
   "name": "Python 3.6.12 64-bit ('ml': conda)",
   "display_name": "Python 3.6.12 64-bit ('ml': conda)",
   "metadata": {
    "interpreter": {
     "hash": "0a51d7d22b6cf5285eec54647c20fef6f14ee281c2e7814d1c520f333ef29f19"
    }
   }
  }
 },
 "nbformat": 4,
 "nbformat_minor": 2,
 "cells": [
  {
   "cell_type": "code",
   "execution_count": 43,
   "metadata": {},
   "outputs": [],
   "source": [
    "import pandas as pd\n",
    "import numpy as np\n",
    "from scipy.sparse.construct import random\n",
    "from sklearn.model_selection import train_test_split"
   ]
  },
  {
   "cell_type": "code",
   "execution_count": 44,
   "metadata": {},
   "outputs": [],
   "source": [
    "data=pd.read_csv('../dataset/crops_final.csv')"
   ]
  },
  {
   "cell_type": "code",
   "execution_count": 45,
   "metadata": {},
   "outputs": [
    {
     "output_type": "stream",
     "name": "stdout",
     "text": [
      "       State_Name District_Name  Crop_Year  Season     Area  Production  \\\n0  Andhra Pradesh     ANANTAPUR       1997  Kharif  21400.0      2600.0   \n\n   Temperature        PH   Rainfall  Sowing Temp  Harvest Temp  Phosphorous  \\\n0    33.259371  7.030931  60.840858    32.784967     37.270328    15.602418   \n\n   Nitrogen     Potash       crop  \n0  6.722272  10.120769  arhar/tur  \n"
     ]
    }
   ],
   "source": [
    "print(data.head(1))"
   ]
  },
  {
   "cell_type": "code",
   "execution_count": 46,
   "metadata": {},
   "outputs": [
    {
     "output_type": "stream",
     "name": "stdout",
     "text": [
      "The data present in one row of the dataset is\n       State_Name District_Name  Crop_Year  Season     Area  Production  \\\n0  Andhra Pradesh     ANANTAPUR       1997  Kharif  21400.0      2600.0   \n\n   Temperature        PH   Rainfall  Sowing Temp  Harvest Temp  Phosphorous  \\\n0    33.259371  7.030931  60.840858    32.784967     37.270328    15.602418   \n\n   Nitrogen     Potash       crop  \n0  6.722272  10.120769  arhar/tur  \n[33.25937141  7.03093099 60.84085845 32.78496739 37.27032817 15.60241756\n  6.72227239 10.12076935] ['arhar/tur']\n"
     ]
    }
   ],
   "source": [
    "#crop_cols = pd.get_dummies(data.crop).iloc[:,:]\n",
    "#data = pd.concat([data, crop_cols], axis=1)\n",
    "#data.drop('crop', axis=1, inplace=True)\n",
    "print('The data present in one row of the dataset is')\n",
    "print(data.head(1))\n",
    "\n",
    "train = data.iloc[:, 6:14].values\n",
    "output = data.iloc[:, 14:].values\n",
    "print(train[0], output[0])"
   ]
  },
  {
   "cell_type": "code",
   "execution_count": 47,
   "metadata": {},
   "outputs": [],
   "source": [
    "X_train, X_test, Y_train, Y_test = train_test_split(train, output, test_size=0.2, random_state=195)"
   ]
  },
  {
   "cell_type": "code",
   "execution_count": 49,
   "metadata": {},
   "outputs": [],
   "source": [
    "from sklearn import svm\n",
    "clf = svm.SVC(kernel='poly', degree=8)"
   ]
  },
  {
   "cell_type": "code",
   "execution_count": 50,
   "metadata": {},
   "outputs": [],
   "source": [
    "clf.fit(X_train, Y_train)\n",
    "pred = clf.predict(X_test)"
   ]
  },
  {
   "cell_type": "code",
   "execution_count": 51,
   "metadata": {},
   "outputs": [
    {
     "output_type": "stream",
     "name": "stdout",
     "text": [
      "[[1316    0    0    0    0    0    0    0    0    0    0    0    0    0\n",
      "     0    0    0    0    0    0    0    0    0    0    0    0    0    0\n",
      "     0]\n",
      " [   0  931    0    0    0    0    0    0    0    0    0    0    0    0\n",
      "     0    0    0    0    0    0    0    0    0    0    0    0    0    0\n",
      "     0]\n",
      " [   0    0  790    0    0    0    0    0    0    0    0    0    0    0\n",
      "     0    0    0    0    0    0    0    0    0    0    0    0    0    0\n",
      "     0]\n",
      " [   0    0    0  587    0    0    0    0    0    0    0    0    0    0\n",
      "     0    0    0    0    0    0    0    0    0    0    0    0    0    0\n",
      "     0]\n",
      " [   0    0    0    0  806    0    0    0    0    0    0    0    0    0\n",
      "     0    0    0    0    0    0    0    0    0    0    0    0    0    0\n",
      "     0]\n",
      " [   0    0    0    0    0   46    0    0    0    0    0    0    0    0\n",
      "     0    0    0    0    0    0    0    0    0    0    0    0    0    0\n",
      "     0]\n",
      " [   0    0    0    0    0    0  797    0    0    0    0    0    0    0\n",
      "     0    0    0    0    0    0    0    0    0    0    0    0    0    0\n",
      "     0]\n",
      " [   0    0    0    0    0    0    0  111    0    0    0    0    0    0\n",
      "     0    0    0    0    0    0    0    0    0    0    0    0    0    0\n",
      "     0]\n",
      " [   0    0    0    0    0    0    0    0   18    0    0    0    0    0\n",
      "     0    0    0    0    0    0    0    0    0    0    0    0    0    0\n",
      "     0]\n",
      " [   0    0    0    0    0    0    0    0    0 1431    0    0    0    0\n",
      "     0    0    0    0    0    0    0    0    0    0    0    0    0    0\n",
      "     0]\n",
      " [   0    0    0    0    0    0    0    0    0    0 1035    0    0    0\n",
      "     0    0    0    0    0    0    0    0    0    0    0    0    0    0\n",
      "     0]\n",
      " [   0    0    0    0    0    0    0    0    0    0    0  312    0    0\n",
      "     0    0    0    0    0    0    0    0    0    0    0    0    0    0\n",
      "     0]\n",
      " [   0    0    0    0    0    0    0    0    0    0    0    0  900    0\n",
      "     0    0    0    0    0    0    0    0    0    0    0    0    0    0\n",
      "     0]\n",
      " [   0    0    0    0    0    0    0    0    0    0    0    0    0 1468\n",
      "     0    0    0    0    0    0    0    0    0    0    0    0    0    0\n",
      "     0]\n",
      " [   0    0    0    0    0    0    0    0    0    0    0    0    0    0\n",
      "   564    0    0    0    0    0    0    0    0    0    0    0    0    0\n",
      "     0]\n",
      " [   0    0    0    0    0    0    0    0    0    0    0    0    0    0\n",
      "     0  858    0    0    0    0    0    0    0    0    0    0    0    0\n",
      "     0]\n",
      " [   0    0    0    0    0    0    0    0    0    0    0    0    0    0\n",
      "     0    0 1124    0    0    0    0    0    0    0    0    0    0    0\n",
      "     0]\n",
      " [   0    0    0    0    0    0    0    0    0    0    0    0    0    0\n",
      "     0    0    0  809    0    0    0    0    0    0    0    0    0    0\n",
      "     0]\n",
      " [   0    0    0    0    0    0    0    0    0    0    0    0    0    0\n",
      "     0    0    0    0  825    0    0    0    0    0    0    0    0    0\n",
      "     0]\n",
      " [   0    0    0    0    0    0    0    0    0    0    0    0    0    0\n",
      "     0    0    0    0    0  848    0    0    0    0    0    0    0    0\n",
      "     0]\n",
      " [   0    0    0    0    0    0    0    0    0    0    0    0    0    0\n",
      "     0    0    0    0    0    0  464    0    0    0    0    0    0    0\n",
      "     0]\n",
      " [   0    0    0    0    0    0    0    0    0    0    0    0    0    0\n",
      "     0    0    0    0    0    0    0 1380    0    0    0    0    0    0\n",
      "     0]\n",
      " [   0    0    0    0    0    0    0    0    0    0    0    0    0    0\n",
      "     0    0    0    0    0    0    0    0 1373    0    0    0    0    0\n",
      "     0]\n",
      " [   0    0    0    0    0    0    0    0    0    0    0    0    0    0\n",
      "     0    0    0    0    0    0    0    0    0  222    0    0    0    0\n",
      "     0]\n",
      " [   0    0    0    0    0    0    0    0    0    0    0    0    0    0\n",
      "     0    0    0    0    0    0    0    0    0    0 1257    0    0    0\n",
      "     0]\n",
      " [   0    0    0    0    0    0    0    0    0    0    0    0    0    0\n",
      "     0    0    0    0    0    0    0    0    0    0    0  487    0    0\n",
      "     0]\n",
      " [   0    0    0    0    0    0    0    0    0    0    0    0    0    0\n",
      "     0    0    0    0    0    0    0    0    0    0    0    0  758    0\n",
      "     0]\n",
      " [   0    0    0    0    0    0    0    0    0    0    0    0    0    0\n",
      "     0    0    0    0    0    0    0    0    0    0    0    0    0 1212\n",
      "     0]\n",
      " [   0    0    0    0    0    0    0    0    0    0    0    0    0    0\n",
      "     0    0    0    0    0    0    0    0    0    0    0    0    0    0\n",
      "  1488]]\n",
      "                       precision    recall  f1-score   support\n",
      "\n",
      "            arhar/tur       1.00      1.00      1.00      1316\n",
      "                bajra       1.00      1.00      1.00       931\n",
      "               barley       1.00      1.00      1.00       790\n",
      "            coriander       1.00      1.00      1.00       587\n",
      "         cotton(lint)       1.00      1.00      1.00       806\n",
      "        cowpea(lobia)       1.00      1.00      1.00        46\n",
      "         dry chillies       1.00      1.00      1.00       797\n",
      "               garlic       1.00      1.00      1.00       111\n",
      "               ginger       1.00      1.00      1.00        18\n",
      "                 gram       1.00      1.00      1.00      1431\n",
      "            groundnut       1.00      1.00      1.00      1035\n",
      "                jowar       1.00      1.00      1.00       312\n",
      "              linseed       1.00      1.00      1.00       900\n",
      "              maize-k       1.00      1.00      1.00      1468\n",
      "              maize-r       1.00      1.00      1.00       564\n",
      "               masoor       1.00      1.00      1.00       858\n",
      "    moong(green gram)       1.00      1.00      1.00      1124\n",
      "                onion       1.00      1.00      1.00       809\n",
      "peas & beans (pulses)       1.00      1.00      1.00       825\n",
      "               potato       1.00      1.00      1.00       848\n",
      "                 ragi       1.00      1.00      1.00       464\n",
      "    rapeseed &mustard       1.00      1.00      1.00      1380\n",
      "                 rice       1.00      1.00      1.00      1373\n",
      "            safflower       1.00      1.00      1.00       222\n",
      "            sugarcane       1.00      1.00      1.00      1257\n",
      "            sunflower       1.00      1.00      1.00       487\n",
      "             turmeric       1.00      1.00      1.00       758\n",
      "                 urad       1.00      1.00      1.00      1212\n",
      "                wheat       1.00      1.00      1.00      1488\n",
      "\n",
      "             accuracy                           1.00     24217\n",
      "            macro avg       1.00      1.00      1.00     24217\n",
      "         weighted avg       1.00      1.00      1.00     24217\n",
      "\n"
     ]
    }
   ],
   "source": [
    "from sklearn.metrics import classification_report, confusion_matrix\n",
    "print(confusion_matrix(Y_test, pred))\n",
    "print(classification_report(Y_test,pred))"
   ]
  },
  {
   "cell_type": "code",
   "execution_count": 72,
   "metadata": {},
   "outputs": [
    {
     "output_type": "stream",
     "name": "stdout",
     "text": [
      "[23.89649369  8.98462925  9.43376182 26.18788254 23.55339299 37.26220648\n  0.          0.        ] coriander ['coriander']\npredicted crop:-  0\nActual crop:-  0\n"
     ]
    }
   ],
   "source": [
    "test_id_no = 2011\n",
    "print(X_test[test_id_no], pred[test_id_no] , Y_test[test_id_no])\n",
    "\n",
    "print(\"predicted crop:- \", np.argmax(pred[test_id_no]))\n",
    "print(\"Actual crop:- \", np.argmax(Y_test[test_id_no]))"
   ]
  },
  {
   "cell_type": "code",
   "execution_count": 71,
   "metadata": {},
   "outputs": [
    {
     "output_type": "stream",
     "name": "stdout",
     "text": [
      "['rapeseed &mustard']\n"
     ]
    }
   ],
   "source": [
    "print(clf.predict([[35, 2.5, 20, 20, 20, 15, 20, 15]]))"
   ]
  },
  {
   "cell_type": "code",
   "execution_count": null,
   "metadata": {},
   "outputs": [],
   "source": []
  }
 ]
}