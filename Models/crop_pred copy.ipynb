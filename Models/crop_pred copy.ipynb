{
 "metadata": {
  "language_info": {
   "codemirror_mode": {
    "name": "ipython",
    "version": 3
   },
   "file_extension": ".py",
   "mimetype": "text/x-python",
   "name": "python",
   "nbconvert_exporter": "python",
   "pygments_lexer": "ipython3",
   "version": "3.6.12-final"
  },
  "orig_nbformat": 2,
  "kernelspec": {
   "name": "Python 3.6.12 64-bit ('ml': conda)",
   "display_name": "Python 3.6.12 64-bit ('ml': conda)",
   "metadata": {
    "interpreter": {
     "hash": "0a51d7d22b6cf5285eec54647c20fef6f14ee281c2e7814d1c520f333ef29f19"
    }
   }
  }
 },
 "nbformat": 4,
 "nbformat_minor": 2,
 "cells": [
  {
   "cell_type": "code",
   "execution_count": 44,
   "metadata": {},
   "outputs": [],
   "source": [
    "import pandas as pd\n",
    "import numpy as np\n",
    "from scipy.sparse.construct import random\n",
    "from sklearn.model_selection import train_test_split"
   ]
  },
  {
   "cell_type": "code",
   "execution_count": 45,
   "metadata": {},
   "outputs": [
    {
     "output_type": "stream",
     "name": "stdout",
     "text": [
      "       State_Name District_Name  Crop_Year       Season     Area  Production  \\\n0  Andhra Pradesh     ANANTAPUR       1997  Kharif       21400.0      2600.0   \n\n   temperature        pH   rainfall       crop  \n0    30.015194  6.540823  60.740755  arhar/tur  \n0         arhar/tur\n1         arhar/tur\n2         arhar/tur\n3         arhar/tur\n4         arhar/tur\n            ...    \n157634        wheat\n157635        wheat\n157636        wheat\n157637        wheat\n157638        wheat\nName: crop, Length: 157639, dtype: object\n"
     ]
    }
   ],
   "source": [
    "#Reading the csv file\n",
    "data=pd.read_csv('../dataset/final_dataset.csv')\n",
    "#data=pd.read_csv('../dataset/temp_humid_crop.csv')\n",
    "print(data.head(1))\n",
    "print(data.crop)"
   ]
  },
  {
   "cell_type": "code",
   "execution_count": 46,
   "metadata": {},
   "outputs": [
    {
     "output_type": "stream",
     "name": "stdout",
     "text": [
      "        Autumn       Kharif       Rabi         Summer       Whole Year   \\\n0                 0            1            0            0            0   \n1                 0            1            0            0            0   \n2                 0            1            0            0            0   \n3                 0            1            0            0            0   \n4                 0            0            1            0            0   \n...             ...          ...          ...          ...          ...   \n157634            0            0            0            1            0   \n157635            0            0            1            0            0   \n157636            0            0            1            0            0   \n157637            0            0            1            0            0   \n157638            0            0            1            0            0   \n\n        Winter       \n0                 0  \n1                 0  \n2                 0  \n3                 0  \n4                 0  \n...             ...  \n157634            0  \n157635            0  \n157636            0  \n157637            0  \n157638            0  \n\n[157639 rows x 6 columns]\nThe data present in one row of the dataset is\n       State_Name District_Name  Crop_Year       Season     Area  Production  \\\n0  Andhra Pradesh     ANANTAPUR       1997  Kharif       21400.0      2600.0   \n\n   temperature        pH   rainfall  Autumn       ...  peas & beans (pulses)  \\\n0    30.015194  6.540823  60.740755            0  ...                      0   \n\n   potato  rapeseed &mustard  rice  sesamum  small millets  sugarcane  \\\n0       0                  0     0        0              0          0   \n\n   sunflower  urad  wheat  \n0          0     0      0  \n\n[1 rows x 35 columns]\n"
     ]
    }
   ],
   "source": [
    "# To add state uncomment the next line\n",
    "#state= pd.get_dummies(data.State_Name).iloc[: , :]\n",
    "season = pd.get_dummies(data.Season).iloc[: , :]\n",
    "# Creating dummy variable for target i.e label\n",
    "label= pd.get_dummies(data.crop).iloc[: , :]\n",
    "print(season)\n",
    "#data= pd.concat([data,state,label],axis=1)\n",
    "data= pd.concat([data,season,label],axis=1)\n",
    "#print(data)\n",
    "data.drop('crop', axis=1,inplace=True)\n",
    "#print(data)\n",
    "print('The data present in one row of the dataset is')\n",
    "print(data.head(1))\n",
    "train=data.iloc[:, 6:15].values  # 41, if states are included\n",
    "test=data.iloc[: ,15:].values"
   ]
  },
  {
   "cell_type": "code",
   "execution_count": 47,
   "metadata": {},
   "outputs": [],
   "source": [
    "#Dividing the data into training and test set\n",
    "X_train,X_test,y_train,y_test=train_test_split(train,test,test_size=0.3,random_state=7)\n"
   ]
  },
  {
   "cell_type": "code",
   "execution_count": 12,
   "metadata": {},
   "outputs": [],
   "source": [
    "from sklearn.preprocessing import StandardScaler\n",
    "sc = StandardScaler()\n",
    "X_train = sc.fit_transform(X_train)\n",
    "X_test = sc.transform(X_test)\n"
   ]
  },
  {
   "cell_type": "code",
   "execution_count": 40,
   "metadata": {},
   "outputs": [],
   "source": [
    "# Importing Decision Tree classifier\n",
    "from sklearn.tree import DecisionTreeRegressor\n",
    "clf=DecisionTreeRegressor()"
   ]
  },
  {
   "cell_type": "code",
   "execution_count": 48,
   "metadata": {},
   "outputs": [],
   "source": [
    "# Importing Random Forest classifier\n",
    "from sklearn.ensemble import RandomForestRegressor\n",
    "clf = RandomForestRegressor()"
   ]
  },
  {
   "cell_type": "code",
   "execution_count": 49,
   "metadata": {},
   "outputs": [],
   "source": [
    "#Fitting the classifier into training set\n",
    "clf.fit(X_train,y_train)\n",
    "pred=clf.predict(X_test)"
   ]
  },
  {
   "cell_type": "code",
   "execution_count": 50,
   "metadata": {},
   "outputs": [
    {
     "output_type": "stream",
     "name": "stdout",
     "text": [
      "[ 26.33436206   6.91479186 279.7747745    1.           0.\n   0.           0.           0.           0.        ] [0. 0. 0. 0. 0. 0. 0. 0. 0. 0. 0. 0. 0. 1. 0. 0. 0. 0. 0. 0.] [0 0 0 0 0 0 0 0 0 0 0 0 0 1 0 0 0 0 0 0]\n"
     ]
    }
   ],
   "source": [
    "print(X_test[10], pred[10] , y_test[10])\n"
   ]
  },
  {
   "cell_type": "code",
   "execution_count": 51,
   "metadata": {},
   "outputs": [
    {
     "output_type": "stream",
     "name": "stdout",
     "text": [
      "The accuracy of this model is:  83.12399560179311\n"
     ]
    }
   ],
   "source": [
    "from sklearn.metrics import accuracy_score\n",
    "# Finding the accuracy of the model\n",
    "a=accuracy_score(np.argmax(y_test,axis=1),np.argmax(pred,axis=1))\n",
    "print(\"The accuracy of this model is: \", a*100)"
   ]
  },
  {
   "cell_type": "code",
   "execution_count": null,
   "metadata": {},
   "outputs": [],
   "source": []
  }
 ]
}